{
  "nbformat": 4,
  "nbformat_minor": 0,
  "metadata": {
    "colab": {
      "name": "Trainning.ipynb",
      "provenance": []
    },
    "kernelspec": {
      "name": "python3",
      "display_name": "Python 3"
    }
  },
  "cells": [
    {
      "cell_type": "markdown",
      "metadata": {
        "id": "dUM9cM2w5IC5"
      },
      "source": [
        "# My My First Notebook​\r\n"
      ]
    },
    {
      "cell_type": "code",
      "metadata": {
        "colab": {
          "base_uri": "https://localhost:8080/"
        },
        "id": "Ff8eDr3h5NV0",
        "outputId": "0cad1791-c431-460e-ab0f-31b1dcb8b367"
      },
      "source": [
        "#calculate\r\n",
        "2*(3+4)"
      ],
      "execution_count": null,
      "outputs": [
        {
          "output_type": "execute_result",
          "data": {
            "text/plain": [
              "14"
            ]
          },
          "metadata": {
            "tags": []
          },
          "execution_count": 3
        }
      ]
    },
    {
      "cell_type": "code",
      "metadata": {
        "id": "e5_Kbb975xRL"
      },
      "source": [
        "print('first value:',1)\r\n",
        "print"
      ],
      "execution_count": null,
      "outputs": []
    }
  ]
}